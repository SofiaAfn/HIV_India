{
 "cells": [
  {
   "cell_type": "code",
   "execution_count": 1,
   "metadata": {},
   "outputs": [],
   "source": [
    "import pandas as pd\n",
    "import matplotlib.pyplot as plt\n",
    "import seaborn as sns\n",
    "sns.set(color_codes=True, style=\"whitegrid\")\n",
    "%matplotlib inline"
   ]
  },
  {
   "cell_type": "code",
   "execution_count": 2,
   "metadata": {},
   "outputs": [],
   "source": [
    "df = pd.read_csv('classify_titles_allnewspapers.csv')"
   ]
  },
  {
   "cell_type": "code",
   "execution_count": 3,
   "metadata": {},
   "outputs": [
    {
     "data": {
      "text/html": [
       "<div>\n",
       "<style scoped>\n",
       "    .dataframe tbody tr th:only-of-type {\n",
       "        vertical-align: middle;\n",
       "    }\n",
       "\n",
       "    .dataframe tbody tr th {\n",
       "        vertical-align: top;\n",
       "    }\n",
       "\n",
       "    .dataframe thead th {\n",
       "        text-align: right;\n",
       "    }\n",
       "</style>\n",
       "<table border=\"1\" class=\"dataframe\">\n",
       "  <thead>\n",
       "    <tr style=\"text-align: right;\">\n",
       "      <th></th>\n",
       "      <th>title</th>\n",
       "      <th>0-incident/single patient 1-awareness/campaign</th>\n",
       "      <th>score</th>\n",
       "    </tr>\n",
       "  </thead>\n",
       "  <tbody>\n",
       "    <tr>\n",
       "      <th>0</th>\n",
       "      <td>Juvenile users of Chinese gay app contract HIV</td>\n",
       "      <td>0</td>\n",
       "      <td>0.06535297</td>\n",
       "    </tr>\n",
       "    <tr>\n",
       "      <th>1</th>\n",
       "      <td>21dcangr-ctte-cGNE54S5ME3jpgjpg</td>\n",
       "      <td>1</td>\n",
       "      <td>0.74127805</td>\n",
       "    </tr>\n",
       "    <tr>\n",
       "      <th>2</th>\n",
       "      <td>A year that saw Tamil Nadu's health sector sta...</td>\n",
       "      <td>1</td>\n",
       "      <td>0.6296007</td>\n",
       "    </tr>\n",
       "    <tr>\n",
       "      <th>3</th>\n",
       "      <td>‘Many combination drugs not approved by regula...</td>\n",
       "      <td>0</td>\n",
       "      <td>0.087785706</td>\n",
       "    </tr>\n",
       "    <tr>\n",
       "      <th>4</th>\n",
       "      <td>HIV reality check</td>\n",
       "      <td>0</td>\n",
       "      <td>0.12520814</td>\n",
       "    </tr>\n",
       "  </tbody>\n",
       "</table>\n",
       "</div>"
      ],
      "text/plain": [
       "                                               title  \\\n",
       "0     Juvenile users of Chinese gay app contract HIV   \n",
       "1                    21dcangr-ctte-cGNE54S5ME3jpgjpg   \n",
       "2  A year that saw Tamil Nadu's health sector sta...   \n",
       "3  ‘Many combination drugs not approved by regula...   \n",
       "4                                  HIV reality check   \n",
       "\n",
       "  0-incident/single patient 1-awareness/campaign        score  \n",
       "0                                              0   0.06535297  \n",
       "1                                              1   0.74127805  \n",
       "2                                              1    0.6296007  \n",
       "3                                              0  0.087785706  \n",
       "4                                              0   0.12520814  "
      ]
     },
     "execution_count": 3,
     "metadata": {},
     "output_type": "execute_result"
    }
   ],
   "source": [
    "df.drop(df.columns[df.columns.str.contains('unnamed',case = False)],axis = 1, inplace=True)\n",
    "df.dropna(inplace=True)\n",
    "df.head(5)"
   ]
  },
  {
   "cell_type": "code",
   "execution_count": 4,
   "metadata": {},
   "outputs": [
    {
     "data": {
      "text/html": [
       "<div>\n",
       "<style scoped>\n",
       "    .dataframe tbody tr th:only-of-type {\n",
       "        vertical-align: middle;\n",
       "    }\n",
       "\n",
       "    .dataframe tbody tr th {\n",
       "        vertical-align: top;\n",
       "    }\n",
       "\n",
       "    .dataframe thead th {\n",
       "        text-align: right;\n",
       "    }\n",
       "</style>\n",
       "<table border=\"1\" class=\"dataframe\">\n",
       "  <thead>\n",
       "    <tr style=\"text-align: right;\">\n",
       "      <th></th>\n",
       "      <th>title</th>\n",
       "      <th>0-incident/single patient 1-awareness/campaign</th>\n",
       "      <th>score</th>\n",
       "    </tr>\n",
       "  </thead>\n",
       "  <tbody>\n",
       "    <tr>\n",
       "      <th>0</th>\n",
       "      <td>Juvenile users of Chinese gay app contract HIV</td>\n",
       "      <td>0</td>\n",
       "      <td>0.06535297</td>\n",
       "    </tr>\n",
       "    <tr>\n",
       "      <th>1</th>\n",
       "      <td>21dcangr-ctte-cGNE54S5ME3jpgjpg</td>\n",
       "      <td>1</td>\n",
       "      <td>0.74127805</td>\n",
       "    </tr>\n",
       "    <tr>\n",
       "      <th>2</th>\n",
       "      <td>A year that saw Tamil Nadu's health sector sta...</td>\n",
       "      <td>1</td>\n",
       "      <td>0.6296007</td>\n",
       "    </tr>\n",
       "    <tr>\n",
       "      <th>3</th>\n",
       "      <td>‘Many combination drugs not approved by regula...</td>\n",
       "      <td>0</td>\n",
       "      <td>0.087785706</td>\n",
       "    </tr>\n",
       "    <tr>\n",
       "      <th>4</th>\n",
       "      <td>HIV reality check</td>\n",
       "      <td>0</td>\n",
       "      <td>0.12520814</td>\n",
       "    </tr>\n",
       "  </tbody>\n",
       "</table>\n",
       "</div>"
      ],
      "text/plain": [
       "                                               title  \\\n",
       "0     Juvenile users of Chinese gay app contract HIV   \n",
       "1                    21dcangr-ctte-cGNE54S5ME3jpgjpg   \n",
       "2  A year that saw Tamil Nadu's health sector sta...   \n",
       "3  ‘Many combination drugs not approved by regula...   \n",
       "4                                  HIV reality check   \n",
       "\n",
       "  0-incident/single patient 1-awareness/campaign        score  \n",
       "0                                              0   0.06535297  \n",
       "1                                              1   0.74127805  \n",
       "2                                              1    0.6296007  \n",
       "3                                              0  0.087785706  \n",
       "4                                              0   0.12520814  "
      ]
     },
     "execution_count": 4,
     "metadata": {},
     "output_type": "execute_result"
    }
   ],
   "source": [
    "df['0-incident/single patient 1-awareness/campaign'] = df['0-incident/single patient 1-awareness/campaign'].astype('str')\n",
    "df = df[df['0-incident/single patient 1-awareness/campaign'].map(len) < 2]\n",
    "df.head(5)"
   ]
  },
  {
   "cell_type": "code",
   "execution_count": 5,
   "metadata": {},
   "outputs": [
    {
     "data": {
      "text/plain": [
       "{'0': 13590, '1': 13401}"
      ]
     },
     "execution_count": 5,
     "metadata": {},
     "output_type": "execute_result"
    }
   ],
   "source": [
    "class_count = df.groupby(['0-incident/single patient 1-awareness/campaign']).agg('count').apply(lambda x: x.tolist()).to_dict()['score']\n",
    "class_count"
   ]
  },
  {
   "cell_type": "code",
   "execution_count": 6,
   "metadata": {},
   "outputs": [],
   "source": [
    "class_count['Incident_Single Patient'] = class_count.pop('0')\n",
    "class_count['Awareness_Campaign'] = class_count.pop('1')"
   ]
  },
  {
   "cell_type": "code",
   "execution_count": 16,
   "metadata": {},
   "outputs": [
    {
     "data": {
      "image/png": "[encoded data removed]",
      "text/plain": [
       "<Figure size 576x576 with 1 Axes>"
      ]
     },
     "metadata": {
      "needs_background": "light"
     },
     "output_type": "display_data"
    }
   ],
   "source": [
    "fig, ax = plt.subplots(figsize=(8, 8))\n",
    "\n",
    "plt.bar(range(len(class_count)), list(class_count.values()), align='center', label=class_count.keys())\n",
    "plt.xticks(range(len(class_count)), list(class_count.keys()))\n",
    "plt.xlabel('Classes', fontsize=12)\n",
    "plt.ylabel('Number of articles', fontsize=12)\n",
    "plt.title('Count of classes')\n",
    "plt.savefig('Count_of_classes.')\n",
    "plt.show()"
   ]
  },
  {
   "cell_type": "code",
   "execution_count": 8,
   "metadata": {},
   "outputs": [],
   "source": [
    "df['score'] = df['score'].astype('float')\n",
    "class_score_avg = df.groupby(['0-incident/single patient 1-awareness/campaign']).agg({'score' : 'mean'}).apply(lambda x: x.tolist()).to_dict()['score']\n",
    "class_score_avg['Incident_Single Patient'] = class_score_avg.pop('0')\n",
    "class_score_avg['Awareness_Campaign'] = class_score_avg.pop('1')"
   ]
  },
  {
   "cell_type": "code",
   "execution_count": 9,
   "metadata": {
    "scrolled": false
   },
   "outputs": [
    {
     "data": {
      "image/png": "[encoded data removed]",
      "text/plain": [
       "<Figure size 864x432 with 1 Axes>"
      ]
     },
     "metadata": {
      "needs_background": "light"
     },
     "output_type": "display_data"
    }
   ],
   "source": [
    "fig, ax = plt.subplots(figsize=(12, 6))\n",
    "\n",
    "plt.bar(range(len(class_score_avg)), list(class_score_avg.values()), align='center', label=class_score_avg.keys())\n",
    "plt.xticks(range(len(class_score_avg)), list(class_score_avg.keys()))\n",
    "plt.xlabel('Classes', fontsize=12)\n",
    "plt.ylabel('Average score of articles', fontsize=12)\n",
    "plt.title('Classes groupby average score')\n",
    "plt.savefig('Classes_groupby_average_score.png')\n",
    "plt.show()"
   ]
  },
  {
   "cell_type": "code",
   "execution_count": null,
   "metadata": {},
   "outputs": [],
   "source": []
  },
  {
   "cell_type": "code",
   "execution_count": null,
   "metadata": {},
   "outputs": [],
   "source": []
  },
  {
   "cell_type": "code",
   "execution_count": null,
   "metadata": {},
   "outputs": [],
   "source": []
  },
  {
   "cell_type": "code",
   "execution_count": null,
   "metadata": {},
   "outputs": [],
   "source": []
  },
  {
   "cell_type": "code",
   "execution_count": null,
   "metadata": {},
   "outputs": [],
   "source": []
  }
 ],
 "metadata": {
  "kernelspec": {
   "display_name": "Python 3",
   "language": "python",
   "name": "python3"
  },
  "language_info": {
   "codemirror_mode": {
    "name": "ipython",
    "version": 3
   },
   "file_extension": ".py",
   "mimetype": "text/x-python",
   "name": "python",
   "nbconvert_exporter": "python",
   "pygments_lexer": "ipython3",
   "version": "3.6.8"
  }
 },
 "nbformat": 4,
 "nbformat_minor": 2
}
