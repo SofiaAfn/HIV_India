{
 "cells": [
  {
   "cell_type": "code",
   "execution_count": 2,
   "metadata": {
    "collapsed": true
   },
   "outputs": [],
   "source": [
    "import pandas as pd\n",
    "import os\n",
    "import random\n",
    "import codecs\n",
    "from nltk.corpus import stopwords \n",
    "from nltk.stem.wordnet import WordNetLemmatizer\n",
    "import numpy as np"
   ]
  },
  {
   "cell_type": "code",
   "execution_count": 3,
   "metadata": {
    "collapsed": true
   },
   "outputs": [],
   "source": [
    "data=pd.read_csv(\"hindu_articles.csv\")"
   ]
  },
  {
   "cell_type": "code",
   "execution_count": 4,
   "metadata": {},
   "outputs": [
    {
     "data": {
      "text/plain": [
       "(21476, 6)"
      ]
     },
     "execution_count": 4,
     "metadata": {},
     "output_type": "execute_result"
    }
   ],
   "source": [
    "data.shape"
   ]
  },
  {
   "cell_type": "code",
   "execution_count": 5,
   "metadata": {
    "collapsed": true
   },
   "outputs": [],
   "source": [
    "# data = data[data['body'].notnull()]"
   ]
  },
  {
   "cell_type": "code",
   "execution_count": 6,
   "metadata": {},
   "outputs": [
    {
     "data": {
      "text/html": [
       "<div>\n",
       "<style>\n",
       "    .dataframe thead tr:only-child th {\n",
       "        text-align: right;\n",
       "    }\n",
       "\n",
       "    .dataframe thead th {\n",
       "        text-align: left;\n",
       "    }\n",
       "\n",
       "    .dataframe tbody tr th {\n",
       "        vertical-align: top;\n",
       "    }\n",
       "</style>\n",
       "<table border=\"1\" class=\"dataframe\">\n",
       "  <thead>\n",
       "    <tr style=\"text-align: right;\">\n",
       "      <th></th>\n",
       "      <th>name</th>\n",
       "      <th>date</th>\n",
       "      <th>location</th>\n",
       "      <th>category</th>\n",
       "      <th>author</th>\n",
       "      <th>body</th>\n",
       "    </tr>\n",
       "  </thead>\n",
       "  <tbody>\n",
       "    <tr>\n",
       "      <th>0</th>\n",
       "      <td>Juvenile users of Chinese gay app contract HIV</td>\n",
       "      <td>January 06, 2019</td>\n",
       "      <td>Health</td>\n",
       "      <td>Sci-Tech,Health</td>\n",
       "      <td>NaN</td>\n",
       "      <td>Chinese gay dating app Blued is halting new us...</td>\n",
       "    </tr>\n",
       "    <tr>\n",
       "      <th>1</th>\n",
       "      <td>21dcangr-ctte-cGNE54S5ME3jpgjpg</td>\n",
       "      <td>December 28, 2018</td>\n",
       "      <td>DOWN TOWN</td>\n",
       "      <td>Today's Paper,FEATURES,DOWN TOWN</td>\n",
       "      <td>NaN</td>\n",
       "      <td>Students stage a dance based on the theme of HIV.</td>\n",
       "    </tr>\n",
       "    <tr>\n",
       "      <th>2</th>\n",
       "      <td>A year that saw Tamil Nadu's health sector sta...</td>\n",
       "      <td>December 30, 2018</td>\n",
       "      <td>Tamil Nadu</td>\n",
       "      <td>News,States,Tamil Nadu</td>\n",
       "      <td>Serena Josephine M</td>\n",
       "      <td>The year was one of ups and downs for the heal...</td>\n",
       "    </tr>\n",
       "    <tr>\n",
       "      <th>3</th>\n",
       "      <td>‘Many combination drugs not approved by regula...</td>\n",
       "      <td>December 11, 2018</td>\n",
       "      <td>NATIONAL</td>\n",
       "      <td>Today's Paper,NATIONAL</td>\n",
       "      <td>Afshan Yasmeen</td>\n",
       "      <td>Of the 110 anti-TB (tuberculosis) Fixed Dose C...</td>\n",
       "    </tr>\n",
       "    <tr>\n",
       "      <th>4</th>\n",
       "      <td>HIV reality check</td>\n",
       "      <td>December 31, 2018</td>\n",
       "      <td>OPINION</td>\n",
       "      <td>Today's Paper,OPINION</td>\n",
       "      <td>NaN</td>\n",
       "      <td>A 23-year-old pregnant woman in Tamil Nadu tes...</td>\n",
       "    </tr>\n",
       "  </tbody>\n",
       "</table>\n",
       "</div>"
      ],
      "text/plain": [
       "                                                name               date  \\\n",
       "0     Juvenile users of Chinese gay app contract HIV   January 06, 2019   \n",
       "1                    21dcangr-ctte-cGNE54S5ME3jpgjpg  December 28, 2018   \n",
       "2  A year that saw Tamil Nadu's health sector sta...  December 30, 2018   \n",
       "3  ‘Many combination drugs not approved by regula...  December 11, 2018   \n",
       "4                                  HIV reality check  December 31, 2018   \n",
       "\n",
       "     location                          category              author  \\\n",
       "0      Health                   Sci-Tech,Health                 NaN   \n",
       "1   DOWN TOWN  Today's Paper,FEATURES,DOWN TOWN                 NaN   \n",
       "2  Tamil Nadu            News,States,Tamil Nadu  Serena Josephine M   \n",
       "3    NATIONAL            Today's Paper,NATIONAL      Afshan Yasmeen   \n",
       "4     OPINION             Today's Paper,OPINION                 NaN   \n",
       "\n",
       "                                                body  \n",
       "0  Chinese gay dating app Blued is halting new us...  \n",
       "1  Students stage a dance based on the theme of HIV.  \n",
       "2  The year was one of ups and downs for the heal...  \n",
       "3  Of the 110 anti-TB (tuberculosis) Fixed Dose C...  \n",
       "4  A 23-year-old pregnant woman in Tamil Nadu tes...  "
      ]
     },
     "execution_count": 6,
     "metadata": {},
     "output_type": "execute_result"
    }
   ],
   "source": [
    "data.head()"
   ]
  },
  {
   "cell_type": "code",
   "execution_count": 7,
   "metadata": {
    "collapsed": true
   },
   "outputs": [],
   "source": [
    "from nltk.corpus import stopwords \n",
    "from nltk.stem.wordnet import WordNetLemmatizer\n",
    "import string\n",
    "stop = set(stopwords.words('english'))\n",
    "exclude = set(string.punctuation) \n",
    "lemma = WordNetLemmatizer()\n",
    "def clean(doc):\n",
    "    stop_free = \" \".join([i for i in doc.lower().split() if i not in stop])\n",
    "    punc_free = ''.join(ch for ch in stop_free if ch not in exclude)\n",
    "    normalized = \" \".join(lemma.lemmatize(word) for word in punc_free.split())\n",
    "    return normalized\n",
    "\n",
    "doc_clean = [clean(doc).split() for doc in data['name']]  "
   ]
  },
  {
   "cell_type": "code",
   "execution_count": 8,
   "metadata": {
    "collapsed": true
   },
   "outputs": [],
   "source": [
    "# doc_clean=[]\n",
    "# i=0\n",
    "# for doc in data['body']:\n",
    "#     print(i)\n",
    "#     i+=1\n",
    "#     clean(doc).split()\n",
    "    \n"
   ]
  },
  {
   "cell_type": "code",
   "execution_count": 9,
   "metadata": {
    "collapsed": true
   },
   "outputs": [],
   "source": [
    "import gensim\n",
    "from gensim import corpora\n",
    "\n",
    "dictionary = corpora.Dictionary(doc_clean )\n",
    "\n",
    "doc_term_matrix = [dictionary.doc2bow(doc) for doc in doc_clean]"
   ]
  },
  {
   "cell_type": "markdown",
   "metadata": {},
   "source": [
    "# 2 clusters\n"
   ]
  },
  {
   "cell_type": "code",
   "execution_count": 22,
   "metadata": {},
   "outputs": [],
   "source": [
    "Lda2 = gensim.models.ldamodel.LdaModel\n",
    "ldamodel2 = Lda2(doc_term_matrix, num_topics=2, id2word = dictionary, passes=40)"
   ]
  },
  {
   "cell_type": "code",
   "execution_count": 23,
   "metadata": {},
   "outputs": [
    {
     "name": "stdout",
     "output_type": "stream",
     "text": [
      "[(0, '0.028*\"hiv\" + 0.012*\"health\" + 0.010*\"drug\" + 0.009*\"patient\" + 0.008*\"centre\" + 0.008*\"blood\" + 0.007*\"red\" + 0.007*\"people\" + 0.007*\"get\" + 0.006*\"ribbon\" + 0.006*\"hospital\" + 0.006*\"india\" + 0.005*\"express\" + 0.005*\"hivaids\" + 0.005*\"say\" + 0.005*\"cause\" + 0.005*\"test\" + 0.005*\"art\" + 0.005*\"new\" + 0.004*\"care\"'), (1, '0.038*\"aid\" + 0.035*\"today\" + 0.019*\"hiv\" + 0.018*\"chennai\" + 0.017*\"awareness\" + 0.013*\"child\" + 0.009*\"hivaids\" + 0.008*\"positive\" + 0.008*\"day\" + 0.008*\"programme\" + 0.006*\"campaign\" + 0.006*\"student\" + 0.006*\"woman\" + 0.006*\"world\" + 0.006*\"tb\" + 0.005*\"madurai\" + 0.005*\"school\" + 0.005*\"city\" + 0.005*\"tiruchi\" + 0.004*\"sex\"')]\n"
     ]
    }
   ],
   "source": [
    "print(ldamodel2.print_topics(num_topics=2, num_words=20))"
   ]
  },
  {
   "cell_type": "code",
   "execution_count": 12,
   "metadata": {
    "collapsed": true
   },
   "outputs": [],
   "source": [
    "# for idx, topic in ldamodel.print_topics(-1):\n",
    "#     print('Topic: {} \\nWords: {}'.format(idx, topic))"
   ]
  },
  {
   "cell_type": "code",
   "execution_count": 13,
   "metadata": {},
   "outputs": [
    {
     "data": {
      "text/plain": [
       "[('hiv', 0.03294156),\n",
       " ('hivaids', 0.01336389),\n",
       " ('drug', 0.009079793),\n",
       " ('patient', 0.008610064),\n",
       " ('tb', 0.008053943),\n",
       " ('centre', 0.007850551),\n",
       " ('positive', 0.0071579283),\n",
       " ('people', 0.006430754),\n",
       " ('say', 0.005761517),\n",
       " ('health', 0.0050677946),\n",
       " ('new', 0.0049846186),\n",
       " ('sex', 0.0045433505),\n",
       " ('india', 0.004460524),\n",
       " ('cause', 0.004446082),\n",
       " ('test', 0.00444494),\n",
       " ('art', 0.0043578367),\n",
       " ('worker', 0.004352879),\n",
       " ('education', 0.0042875134),\n",
       " ('care', 0.0040619504),\n",
       " ('doctor', 0.0037862079),\n",
       " ('treatment', 0.0037037423),\n",
       " ('hospital', 0.0034917842),\n",
       " ('fight', 0.0033602642),\n",
       " ('meet', 0.0031358947),\n",
       " ('get', 0.003107862),\n",
       " ('testing', 0.0030879807),\n",
       " ('state', 0.0030530253),\n",
       " ('disease', 0.00302489),\n",
       " ('study', 0.0030002298),\n",
       " ('person', 0.0029490904),\n",
       " ('award', 0.002781273),\n",
       " ('ngo', 0.0027751455),\n",
       " ('bill', 0.0027274396),\n",
       " ('make', 0.0026225178),\n",
       " ('social', 0.0024991427),\n",
       " ('stigma', 0.0023793324),\n",
       " ('service', 0.0023790554),\n",
       " ('hivaffected', 0.0023676641),\n",
       " ('fund', 0.0023568163),\n",
       " ('call', 0.0023339735),\n",
       " ('u', 0.0023201993),\n",
       " ('briefly', 0.00231005),\n",
       " ('seek', 0.0022907662),\n",
       " ('medical', 0.002268695),\n",
       " ('soon', 0.0022443798),\n",
       " ('step', 0.0021930984),\n",
       " ('better', 0.0021597885),\n",
       " ('expert', 0.002155386),\n",
       " ('high', 0.0021338607),\n",
       " ('set', 0.0021189433)]"
      ]
     },
     "execution_count": 13,
     "metadata": {},
     "output_type": "execute_result"
    }
   ],
   "source": [
    "ldamodel2.show_topic(0, topn = 50)"
   ]
  },
  {
   "cell_type": "code",
   "execution_count": 14,
   "metadata": {},
   "outputs": [
    {
     "data": {
      "text/plain": [
       "[('aid', 0.039864857),\n",
       " ('today', 0.037379913),\n",
       " ('chennai', 0.019092966),\n",
       " ('awareness', 0.018516755),\n",
       " ('child', 0.013420051),\n",
       " ('hiv', 0.013169006),\n",
       " ('woman', 0.008930186),\n",
       " ('day', 0.008688117),\n",
       " ('programme', 0.008083849),\n",
       " ('blood', 0.007489401),\n",
       " ('red', 0.006931004),\n",
       " ('campaign', 0.0068794396),\n",
       " ('ribbon', 0.006162219),\n",
       " ('health', 0.006019807),\n",
       " ('life', 0.005946269),\n",
       " ('case', 0.0059232153),\n",
       " ('world', 0.0058741816),\n",
       " ('madurai', 0.0051951124),\n",
       " ('school', 0.005193028),\n",
       " ('city', 0.0051156944),\n",
       " ('express', 0.0050966195),\n",
       " ('tiruchi', 0.0050670453),\n",
       " ('student', 0.004994016),\n",
       " ('control', 0.0044707484),\n",
       " ('rally', 0.0043581743),\n",
       " ('held', 0.0041423957),\n",
       " ('camp', 0.0039931107),\n",
       " ('get', 0.0034552077),\n",
       " ('mark', 0.003383911),\n",
       " ('spread', 0.0032557962),\n",
       " ('state', 0.0032116421),\n",
       " ('launched', 0.0032093404),\n",
       " ('new', 0.0030564975),\n",
       " ('hope', 0.0028683208),\n",
       " ('youth', 0.0026919136),\n",
       " ('right', 0.002625338),\n",
       " ('coimbatore', 0.0026244489),\n",
       " ('training', 0.0025632246),\n",
       " ('around', 0.002558669),\n",
       " ('create', 0.0025161782),\n",
       " ('focus', 0.0024154023),\n",
       " ('year', 0.0024090763),\n",
       " ('government', 0.002405135),\n",
       " ('message', 0.0023720807),\n",
       " ('society', 0.0023592336),\n",
       " ('death', 0.0023429564),\n",
       " ('bank', 0.0023287968),\n",
       " ('campus', 0.0022956592),\n",
       " ('girl', 0.0022041465),\n",
       " ('hospital', 0.0021982633)]"
      ]
     },
     "execution_count": 14,
     "metadata": {},
     "output_type": "execute_result"
    }
   ],
   "source": [
    "ldamodel2.show_topic(1, topn = 50)"
   ]
  },
  {
   "cell_type": "code",
   "execution_count": 15,
   "metadata": {
    "collapsed": true
   },
   "outputs": [],
   "source": [
    "# ques_vec = dictionary.doc2bow(doc_clean[0])\n",
    "# topic_vec = ldamodel[ques_vec]"
   ]
  },
  {
   "cell_type": "code",
   "execution_count": 21,
   "metadata": {},
   "outputs": [],
   "source": [
    "# topic_vec[0][1]"
   ]
  },
  {
   "cell_type": "code",
   "execution_count": 44,
   "metadata": {
    "collapsed": true
   },
   "outputs": [],
   "source": [
    "# for i in range(len(doc_clean)):\n",
    "#     ques_vec = dictionary.doc2bow(doc_clean[i])\n",
    "#     topic_vec = ldamodel[ques_vec]\n",
    "    \n",
    "#     print(data['name'][i], topic_vec)"
   ]
  },
  {
   "cell_type": "code",
   "execution_count": 45,
   "metadata": {
    "collapsed": true
   },
   "outputs": [],
   "source": [
    "# for i in range(len(doc_clean)):\n",
    "#     ques_vec = dictionary.doc2bow(doc_clean[i])\n",
    "#     topic_vec = ldamodel[ques_vec]\n",
    "#     if(topic_vec[0][1]>topic_vec[1][1]):\n",
    "#         print(data['name'][i], \"--awareness/campaign\",topic_vec[0][1])\n",
    "#     else:\n",
    "#         print(data['name'][i], \"--incident/single patient invloved\",topic_vec[1][1])"
   ]
  },
  {
   "cell_type": "code",
   "execution_count": 46,
   "metadata": {
    "collapsed": true
   },
   "outputs": [],
   "source": [
    "# data[\"0-incident/single patient 1-awareness/campaign\"]=0"
   ]
  },
  {
   "cell_type": "code",
   "execution_count": 47,
   "metadata": {
    "collapsed": true
   },
   "outputs": [],
   "source": [
    "# for i in range(len(doc_clean)):\n",
    "#     ques_vec = dictionary.doc2bow(doc_clean[i])\n",
    "#     topic_vec = ldamodel[ques_vec]\n",
    "#     if(topic_vec[0][1]>topic_vec[1][1]):\n",
    "#         data.ix[i,\"0-incident/single patient 1-awareness/campaign\"]=1\n",
    "#     else:\n",
    "#         data.ix[i,\"0-incident/single patient 1-awareness/campaign\"]=0"
   ]
  },
  {
   "cell_type": "code",
   "execution_count": 48,
   "metadata": {},
   "outputs": [
    {
     "data": {
      "text/html": [
       "<div>\n",
       "<style>\n",
       "    .dataframe thead tr:only-child th {\n",
       "        text-align: right;\n",
       "    }\n",
       "\n",
       "    .dataframe thead th {\n",
       "        text-align: left;\n",
       "    }\n",
       "\n",
       "    .dataframe tbody tr th {\n",
       "        vertical-align: top;\n",
       "    }\n",
       "</style>\n",
       "<table border=\"1\" class=\"dataframe\">\n",
       "  <thead>\n",
       "    <tr style=\"text-align: right;\">\n",
       "      <th></th>\n",
       "      <th>name</th>\n",
       "      <th>date</th>\n",
       "      <th>location</th>\n",
       "      <th>category</th>\n",
       "      <th>author</th>\n",
       "      <th>body</th>\n",
       "      <th>0-incident/single patient 1-awareness/campaign</th>\n",
       "    </tr>\n",
       "  </thead>\n",
       "  <tbody>\n",
       "    <tr>\n",
       "      <th>0</th>\n",
       "      <td>Juvenile users of Chinese gay app contract HIV</td>\n",
       "      <td>January 06, 2019</td>\n",
       "      <td>Health</td>\n",
       "      <td>Sci-Tech,Health</td>\n",
       "      <td>NaN</td>\n",
       "      <td>Chinese gay dating app Blued is halting new us...</td>\n",
       "      <td>0</td>\n",
       "    </tr>\n",
       "    <tr>\n",
       "      <th>1</th>\n",
       "      <td>21dcangr-ctte-cGNE54S5ME3jpgjpg</td>\n",
       "      <td>December 28, 2018</td>\n",
       "      <td>DOWN TOWN</td>\n",
       "      <td>Today's Paper,FEATURES,DOWN TOWN</td>\n",
       "      <td>NaN</td>\n",
       "      <td>Students stage a dance based on the theme of HIV.</td>\n",
       "      <td>0</td>\n",
       "    </tr>\n",
       "    <tr>\n",
       "      <th>2</th>\n",
       "      <td>A year that saw Tamil Nadu's health sector sta...</td>\n",
       "      <td>December 30, 2018</td>\n",
       "      <td>Tamil Nadu</td>\n",
       "      <td>News,States,Tamil Nadu</td>\n",
       "      <td>Serena Josephine M</td>\n",
       "      <td>The year was one of ups and downs for the heal...</td>\n",
       "      <td>1</td>\n",
       "    </tr>\n",
       "    <tr>\n",
       "      <th>3</th>\n",
       "      <td>‘Many combination drugs not approved by regula...</td>\n",
       "      <td>December 11, 2018</td>\n",
       "      <td>NATIONAL</td>\n",
       "      <td>Today's Paper,NATIONAL</td>\n",
       "      <td>Afshan Yasmeen</td>\n",
       "      <td>Of the 110 anti-TB (tuberculosis) Fixed Dose C...</td>\n",
       "      <td>1</td>\n",
       "    </tr>\n",
       "    <tr>\n",
       "      <th>4</th>\n",
       "      <td>HIV reality check</td>\n",
       "      <td>December 31, 2018</td>\n",
       "      <td>OPINION</td>\n",
       "      <td>Today's Paper,OPINION</td>\n",
       "      <td>NaN</td>\n",
       "      <td>A 23-year-old pregnant woman in Tamil Nadu tes...</td>\n",
       "      <td>1</td>\n",
       "    </tr>\n",
       "  </tbody>\n",
       "</table>\n",
       "</div>"
      ],
      "text/plain": [
       "                                                name               date  \\\n",
       "0     Juvenile users of Chinese gay app contract HIV   January 06, 2019   \n",
       "1                    21dcangr-ctte-cGNE54S5ME3jpgjpg  December 28, 2018   \n",
       "2  A year that saw Tamil Nadu's health sector sta...  December 30, 2018   \n",
       "3  ‘Many combination drugs not approved by regula...  December 11, 2018   \n",
       "4                                  HIV reality check  December 31, 2018   \n",
       "\n",
       "     location                          category              author  \\\n",
       "0      Health                   Sci-Tech,Health                 NaN   \n",
       "1   DOWN TOWN  Today's Paper,FEATURES,DOWN TOWN                 NaN   \n",
       "2  Tamil Nadu            News,States,Tamil Nadu  Serena Josephine M   \n",
       "3    NATIONAL            Today's Paper,NATIONAL      Afshan Yasmeen   \n",
       "4     OPINION             Today's Paper,OPINION                 NaN   \n",
       "\n",
       "                                                body  \\\n",
       "0  Chinese gay dating app Blued is halting new us...   \n",
       "1  Students stage a dance based on the theme of HIV.   \n",
       "2  The year was one of ups and downs for the heal...   \n",
       "3  Of the 110 anti-TB (tuberculosis) Fixed Dose C...   \n",
       "4  A 23-year-old pregnant woman in Tamil Nadu tes...   \n",
       "\n",
       "   0-incident/single patient 1-awareness/campaign  \n",
       "0                                               0  \n",
       "1                                               0  \n",
       "2                                               1  \n",
       "3                                               1  \n",
       "4                                               1  "
      ]
     },
     "execution_count": 48,
     "metadata": {},
     "output_type": "execute_result"
    }
   ],
   "source": [
    "# data.head()"
   ]
  },
  {
   "cell_type": "code",
   "execution_count": 49,
   "metadata": {
    "collapsed": true
   },
   "outputs": [],
   "source": [
    "# hindu_art_classify = open('file'+'_2', 'w')\n",
    "# np.savetxt('hindu_art_classify.csv',Y_pred,delimiter=',')\n",
    "# hindu_art_classify = pd.DataFrame({'PassengerId':index_id , \"Survived\": Y_pred})\n",
    "# titanic_sol.to_csv('titanic_sol.csv', index=False)"
   ]
  },
  {
   "cell_type": "code",
   "execution_count": 31,
   "metadata": {
    "collapsed": true
   },
   "outputs": [],
   "source": [
    "# data.to_csv('classification_hindu_articles.csv')"
   ]
  },
  {
   "cell_type": "markdown",
   "metadata": {
    "collapsed": true
   },
   "source": [
    "# 3 clusters"
   ]
  },
  {
   "cell_type": "code",
   "execution_count": 30,
   "metadata": {
    "collapsed": true
   },
   "outputs": [],
   "source": [
    "Lda3 = gensim.models.ldamodel.LdaModel\n",
    "ldamodel3 = Lda3(doc_term_matrix, num_topics=3, id2word = dictionary, passes=40)"
   ]
  },
  {
   "cell_type": "code",
   "execution_count": 31,
   "metadata": {},
   "outputs": [
    {
     "name": "stdout",
     "output_type": "stream",
     "text": [
      "[(0, '0.019*\"hiv\" + 0.014*\"child\" + 0.014*\"woman\" + 0.011*\"red\" + 0.010*\"ribbon\" + 0.009*\"centre\" + 0.009*\"hospital\" + 0.008*\"city\" + 0.008*\"express\" + 0.008*\"blood\" + 0.007*\"test\" + 0.007*\"art\" + 0.007*\"positive\" + 0.006*\"camp\" + 0.006*\"school\" + 0.005*\"district\" + 0.005*\"spread\" + 0.005*\"student\" + 0.005*\"award\" + 0.004*\"get\" + 0.004*\"social\" + 0.004*\"around\" + 0.004*\"plan\" + 0.004*\"hivpositive\" + 0.004*\"hivaffected\" + 0.004*\"government\" + 0.004*\"come\" + 0.004*\"message\" + 0.004*\"death\" + 0.004*\"campus\"'), (1, '0.058*\"today\" + 0.046*\"aid\" + 0.029*\"chennai\" + 0.029*\"awareness\" + 0.013*\"day\" + 0.010*\"programme\" + 0.009*\"world\" + 0.008*\"madurai\" + 0.008*\"tiruchi\" + 0.007*\"sex\" + 0.007*\"worker\" + 0.007*\"education\" + 0.007*\"rally\" + 0.006*\"care\" + 0.006*\"medical\" + 0.005*\"youth\" + 0.005*\"way\" + 0.005*\"mark\" + 0.005*\"student\" + 0.005*\"meet\" + 0.005*\"new\" + 0.005*\"disease\" + 0.005*\"take\" + 0.004*\"hope\" + 0.004*\"make\" + 0.004*\"training\" + 0.004*\"blood\" + 0.004*\"held\" + 0.004*\"create\" + 0.004*\"fund\"'), (2, '0.047*\"hiv\" + 0.019*\"hivaids\" + 0.015*\"health\" + 0.014*\"aid\" + 0.013*\"drug\" + 0.012*\"patient\" + 0.009*\"campaign\" + 0.009*\"people\" + 0.009*\"tb\" + 0.008*\"case\" + 0.007*\"say\" + 0.007*\"new\" + 0.006*\"cause\" + 0.006*\"positive\" + 0.006*\"child\" + 0.006*\"state\" + 0.006*\"life\" + 0.005*\"treatment\" + 0.005*\"help\" + 0.004*\"infection\" + 0.004*\"launched\" + 0.004*\"testing\" + 0.004*\"get\" + 0.004*\"control\" + 0.004*\"need\" + 0.004*\"bill\" + 0.004*\"vaccine\" + 0.004*\"scheme\" + 0.004*\"coimbatore\" + 0.003*\"india\"')]\n"
     ]
    }
   ],
   "source": [
    "print(ldamodel3.print_topics(num_topics=3, num_words=30))"
   ]
  },
  {
   "cell_type": "code",
   "execution_count": null,
   "metadata": {
    "collapsed": true
   },
   "outputs": [],
   "source": []
  },
  {
   "cell_type": "markdown",
   "metadata": {},
   "source": [
    "# 4 clusters"
   ]
  },
  {
   "cell_type": "code",
   "execution_count": 32,
   "metadata": {},
   "outputs": [
    {
     "name": "stdout",
     "output_type": "stream",
     "text": [
      "[(0, '0.026*\"health\" + 0.012*\"aid\" + 0.010*\"control\" + 0.008*\"hiv\" + 0.007*\"new\" + 0.007*\"award\" + 0.006*\"infection\" + 0.006*\"around\" + 0.006*\"hospital\" + 0.006*\"service\" + 0.005*\"year\" + 0.005*\"society\" + 0.005*\"campus\" + 0.005*\"high\" + 0.005*\"set\" + 0.005*\"official\" + 0.005*\"tb\" + 0.005*\"fight\" + 0.005*\"say\" + 0.004*\"minister\" + 0.004*\"connect\" + 0.004*\"issue\" + 0.004*\"camp\" + 0.004*\"case\" + 0.003*\"film\" + 0.003*\"open\" + 0.003*\"ngo\" + 0.003*\"told\" + 0.003*\"court\" + 0.003*\"inaugurated\"'), (1, '0.056*\"aid\" + 0.037*\"awareness\" + 0.017*\"day\" + 0.016*\"programme\" + 0.014*\"red\" + 0.014*\"campaign\" + 0.012*\"ribbon\" + 0.012*\"world\" + 0.010*\"express\" + 0.010*\"student\" + 0.009*\"rally\" + 0.008*\"care\" + 0.008*\"hiv\" + 0.007*\"mark\" + 0.006*\"right\" + 0.006*\"held\" + 0.005*\"youth\" + 0.005*\"create\" + 0.005*\"way\" + 0.005*\"art\" + 0.005*\"message\" + 0.005*\"spread\" + 0.004*\"camp\" + 0.004*\"college\" + 0.004*\"workshop\" + 0.004*\"rural\" + 0.004*\"call\" + 0.004*\"special\" + 0.004*\"take\" + 0.004*\"patient\"'), (2, '0.041*\"hiv\" + 0.014*\"child\" + 0.013*\"drug\" + 0.012*\"centre\" + 0.011*\"aid\" + 0.011*\"blood\" + 0.011*\"get\" + 0.008*\"test\" + 0.008*\"education\" + 0.008*\"city\" + 0.007*\"patient\" + 0.006*\"state\" + 0.006*\"school\" + 0.006*\"woman\" + 0.006*\"launched\" + 0.006*\"testing\" + 0.006*\"india\" + 0.006*\"tb\" + 0.006*\"case\" + 0.005*\"project\" + 0.005*\"hope\" + 0.005*\"new\" + 0.005*\"doctor\" + 0.005*\"district\" + 0.004*\"hospital\" + 0.004*\"hivpositive\" + 0.004*\"seek\" + 0.004*\"need\" + 0.004*\"sex\" + 0.004*\"people\"'), (3, '0.070*\"today\" + 0.036*\"chennai\" + 0.031*\"hiv\" + 0.026*\"hivaids\" + 0.017*\"positive\" + 0.010*\"child\" + 0.010*\"madurai\" + 0.009*\"tiruchi\" + 0.009*\"cause\" + 0.008*\"woman\" + 0.007*\"treatment\" + 0.007*\"life\" + 0.006*\"patient\" + 0.006*\"worker\" + 0.005*\"coimbatore\" + 0.005*\"training\" + 0.005*\"people\" + 0.005*\"sex\" + 0.005*\"stigma\" + 0.005*\"hivaffected\" + 0.005*\"come\" + 0.004*\"briefly\" + 0.004*\"bill\" + 0.004*\"soon\" + 0.004*\"among\" + 0.004*\"step\" + 0.004*\"living\" + 0.004*\"new\" + 0.004*\"say\" + 0.004*\"drug\"')]\n"
     ]
    }
   ],
   "source": [
    "Lda4 = gensim.models.ldamodel.LdaModel\n",
    "ldamodel4 = Lda4(doc_term_matrix, num_topics=4, id2word = dictionary, passes=40)\n",
    "print(ldamodel4.print_topics(num_topics=4, num_words=30))"
   ]
  },
  {
   "cell_type": "code",
   "execution_count": null,
   "metadata": {
    "collapsed": true
   },
   "outputs": [],
   "source": []
  },
  {
   "cell_type": "markdown",
   "metadata": {},
   "source": [
    "# 5 clusters"
   ]
  },
  {
   "cell_type": "code",
   "execution_count": 34,
   "metadata": {},
   "outputs": [
    {
     "name": "stdout",
     "output_type": "stream",
     "text": [
      "[(0, '0.085*\"aid\" + 0.040*\"awareness\" + 0.019*\"day\" + 0.017*\"programme\" + 0.015*\"campaign\" + 0.014*\"hiv\" + 0.013*\"world\" + 0.012*\"hivaids\" + 0.012*\"student\" + 0.010*\"cause\" + 0.009*\"rally\" + 0.009*\"camp\" + 0.007*\"fight\" + 0.007*\"mark\" + 0.007*\"child\" + 0.007*\"take\" + 0.007*\"control\" + 0.006*\"health\" + 0.006*\"make\" + 0.006*\"spread\" + 0.006*\"medical\" + 0.005*\"create\" + 0.005*\"stigma\" + 0.005*\"held\" + 0.005*\"education\" + 0.005*\"come\" + 0.005*\"ngo\" + 0.005*\"woman\" + 0.005*\"youth\" + 0.004*\"prevention\"'), (1, '0.019*\"red\" + 0.017*\"ribbon\" + 0.015*\"blood\" + 0.011*\"tb\" + 0.010*\"hiv\" + 0.009*\"get\" + 0.007*\"hospital\" + 0.006*\"better\" + 0.006*\"set\" + 0.006*\"begin\" + 0.005*\"doctor\" + 0.005*\"health\" + 0.005*\"report\" + 0.005*\"centre\" + 0.005*\"new\" + 0.005*\"court\" + 0.005*\"state\" + 0.005*\"drive\" + 0.005*\"government\" + 0.005*\"work\" + 0.004*\"hivaids\" + 0.004*\"vaccine\" + 0.004*\"one\" + 0.004*\"engagement\" + 0.004*\"donation\" + 0.004*\"school\" + 0.004*\"act\" + 0.004*\"poor\" + 0.004*\"drug\" + 0.004*\"life\"'), (2, '0.078*\"today\" + 0.054*\"hiv\" + 0.040*\"chennai\" + 0.012*\"people\" + 0.011*\"patient\" + 0.011*\"new\" + 0.011*\"madurai\" + 0.011*\"positive\" + 0.011*\"tiruchi\" + 0.007*\"say\" + 0.007*\"child\" + 0.007*\"testing\" + 0.007*\"among\" + 0.007*\"hivaids\" + 0.006*\"centre\" + 0.006*\"test\" + 0.006*\"care\" + 0.006*\"drug\" + 0.006*\"india\" + 0.005*\"coimbatore\" + 0.005*\"infection\" + 0.005*\"life\" + 0.005*\"tb\" + 0.005*\"study\" + 0.005*\"state\" + 0.005*\"living\" + 0.004*\"expert\" + 0.004*\"research\" + 0.004*\"support\" + 0.004*\"prevalence\"'), (3, '0.017*\"hiv\" + 0.010*\"child\" + 0.009*\"right\" + 0.007*\"social\" + 0.007*\"sex\" + 0.007*\"hivaffected\" + 0.007*\"message\" + 0.007*\"society\" + 0.006*\"campus\" + 0.006*\"bill\" + 0.006*\"workshop\" + 0.006*\"call\" + 0.006*\"minister\" + 0.005*\"connect\" + 0.005*\"special\" + 0.005*\"two\" + 0.005*\"woman\" + 0.005*\"held\" + 0.005*\"health\" + 0.005*\"worker\" + 0.005*\"drug\" + 0.005*\"positive\" + 0.004*\"therapy\" + 0.004*\"get\" + 0.004*\"help\" + 0.004*\"issue\" + 0.004*\"hand\" + 0.004*\"case\" + 0.004*\"end\" + 0.004*\"activist\"'), (4, '0.014*\"city\" + 0.014*\"express\" + 0.013*\"hiv\" + 0.013*\"health\" + 0.010*\"woman\" + 0.009*\"district\" + 0.009*\"art\" + 0.009*\"centre\" + 0.009*\"launched\" + 0.008*\"hope\" + 0.007*\"child\" + 0.007*\"around\" + 0.006*\"briefly\" + 0.006*\"award\" + 0.006*\"bank\" + 0.006*\"patient\" + 0.006*\"hivaids\" + 0.006*\"positive\" + 0.006*\"initiative\" + 0.006*\"way\" + 0.005*\"get\" + 0.005*\"hospital\" + 0.005*\"hivpositive\" + 0.005*\"worker\" + 0.005*\"project\" + 0.005*\"training\" + 0.005*\"treatment\" + 0.005*\"sought\" + 0.004*\"healthcare\" + 0.004*\"drug\"')]\n"
     ]
    }
   ],
   "source": [
    "Lda5 = gensim.models.ldamodel.LdaModel\n",
    "ldamodel5 = Lda5(doc_term_matrix, num_topics=5, id2word = dictionary, passes=40)\n",
    "print(ldamodel5.print_topics(num_topics=5, num_words=30))"
   ]
  },
  {
   "cell_type": "code",
   "execution_count": null,
   "metadata": {
    "collapsed": true
   },
   "outputs": [],
   "source": []
  },
  {
   "cell_type": "code",
   "execution_count": null,
   "metadata": {
    "collapsed": true
   },
   "outputs": [],
   "source": []
  },
  {
   "cell_type": "code",
   "execution_count": null,
   "metadata": {},
   "outputs": [],
   "source": []
  },
  {
   "cell_type": "code",
   "execution_count": 35,
   "metadata": {
    "collapsed": true
   },
   "outputs": [],
   "source": [
    "entr2=0\n",
    "\n",
    "for i in range(len(doc_clean)):\n",
    "    ques_vec = dictionary.doc2bow(doc_clean[i])\n",
    "    topic_vec = ldamodel2[ques_vec]\n",
    "    entr2=entr2- topic_vec[0][1]*np.log(topic_vec[0][1])-topic_vec[1][1]*np.log(topic_vec[1][1])\n",
    "#     print(data['name'][i], topic_vec)"
   ]
  },
  {
   "cell_type": "code",
   "execution_count": 36,
   "metadata": {},
   "outputs": [
    {
     "data": {
      "text/plain": [
       "9808.853687696159"
      ]
     },
     "execution_count": 36,
     "metadata": {},
     "output_type": "execute_result"
    }
   ],
   "source": [
    "entr2"
   ]
  },
  {
   "cell_type": "code",
   "execution_count": 37,
   "metadata": {
    "collapsed": true
   },
   "outputs": [],
   "source": [
    "entr3=0\n",
    "\n",
    "for i in range(len(doc_clean)):\n",
    "    ques_vec = dictionary.doc2bow(doc_clean[i])\n",
    "    topic_vec = ldamodel3[ques_vec]\n",
    "    entr3=entr3- topic_vec[0][1]*np.log(topic_vec[0][1])-topic_vec[1][1]*np.log(topic_vec[1][1])-topic_vec[2][1]*np.log(topic_vec[2][1])"
   ]
  },
  {
   "cell_type": "code",
   "execution_count": 38,
   "metadata": {},
   "outputs": [
    {
     "data": {
      "text/plain": [
       "15076.3616643399"
      ]
     },
     "execution_count": 38,
     "metadata": {},
     "output_type": "execute_result"
    }
   ],
   "source": [
    "entr3"
   ]
  },
  {
   "cell_type": "code",
   "execution_count": 39,
   "metadata": {
    "collapsed": true
   },
   "outputs": [],
   "source": [
    "entr4=0\n",
    "\n",
    "for i in range(len(doc_clean)):\n",
    "    ques_vec = dictionary.doc2bow(doc_clean[i])\n",
    "    topic_vec = ldamodel4[ques_vec]\n",
    "    entr4=entr4- topic_vec[0][1]*np.log(topic_vec[0][1])-topic_vec[1][1]*np.log(topic_vec[1][1])- topic_vec[2][1]*np.log(topic_vec[2][1])-topic_vec[3][1]*np.log(topic_vec[3][1])"
   ]
  },
  {
   "cell_type": "code",
   "execution_count": 40,
   "metadata": {},
   "outputs": [
    {
     "data": {
      "text/plain": [
       "18256.909873850644"
      ]
     },
     "execution_count": 40,
     "metadata": {},
     "output_type": "execute_result"
    }
   ],
   "source": [
    "entr4"
   ]
  },
  {
   "cell_type": "code",
   "execution_count": 41,
   "metadata": {
    "collapsed": true
   },
   "outputs": [],
   "source": [
    "entr5=0\n",
    "\n",
    "for i in range(len(doc_clean)):\n",
    "    ques_vec = dictionary.doc2bow(doc_clean[i])\n",
    "    topic_vec = ldamodel5[ques_vec]\n",
    "    entr5=entr5- topic_vec[0][1]*np.log(topic_vec[0][1])-topic_vec[1][1]*np.log(topic_vec[1][1])- topic_vec[2][1]*np.log(topic_vec[2][1])-topic_vec[3][1]*np.log(topic_vec[3][1])-topic_vec[4][1]*np.log(topic_vec[4][1])"
   ]
  },
  {
   "cell_type": "code",
   "execution_count": 42,
   "metadata": {},
   "outputs": [
    {
     "data": {
      "text/plain": [
       "20594.356611590832"
      ]
     },
     "execution_count": 42,
     "metadata": {},
     "output_type": "execute_result"
    }
   ],
   "source": [
    "entr5"
   ]
  },
  {
   "cell_type": "code",
   "execution_count": null,
   "metadata": {
    "collapsed": true
   },
   "outputs": [],
   "source": []
  }
 ],
 "metadata": {
  "kernelspec": {
   "display_name": "Python 3",
   "language": "python",
   "name": "python3"
  },
  "language_info": {
   "codemirror_mode": {
    "name": "ipython",
    "version": 3
   },
   "file_extension": ".py",
   "mimetype": "text/x-python",
   "name": "python",
   "nbconvert_exporter": "python",
   "pygments_lexer": "ipython3",
   "version": "3.6.3"
  }
 },
 "nbformat": 4,
 "nbformat_minor": 2
}
