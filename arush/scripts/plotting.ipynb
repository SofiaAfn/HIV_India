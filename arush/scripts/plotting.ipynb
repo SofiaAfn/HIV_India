{
 "cells": [
  {
   "cell_type": "code",
   "execution_count": 1,
   "metadata": {},
   "outputs": [],
   "source": [
    "import matplotlib.pyplot as plt\n",
    "import pandas as pd\n",
    "import numpy as np\n",
    "%matplotlib inline"
   ]
  },
  {
   "cell_type": "code",
   "execution_count": 2,
   "metadata": {},
   "outputs": [
    {
     "data": {
      "text/html": [
       "<div>\n",
       "<style scoped>\n",
       "    .dataframe tbody tr th:only-of-type {\n",
       "        vertical-align: middle;\n",
       "    }\n",
       "\n",
       "    .dataframe tbody tr th {\n",
       "        vertical-align: top;\n",
       "    }\n",
       "\n",
       "    .dataframe thead th {\n",
       "        text-align: right;\n",
       "    }\n",
       "</style>\n",
       "<table border=\"1\" class=\"dataframe\">\n",
       "  <thead>\n",
       "    <tr style=\"text-align: right;\">\n",
       "      <th></th>\n",
       "      <th>name</th>\n",
       "      <th>date</th>\n",
       "      <th>location</th>\n",
       "      <th>category</th>\n",
       "      <th>author</th>\n",
       "      <th>body</th>\n",
       "    </tr>\n",
       "  </thead>\n",
       "  <tbody>\n",
       "    <tr>\n",
       "      <th>0</th>\n",
       "      <td>Juvenile users of Chinese gay app contract HIV</td>\n",
       "      <td>January 06, 2019</td>\n",
       "      <td>Health</td>\n",
       "      <td>Sci-Tech,Health</td>\n",
       "      <td>NaN</td>\n",
       "      <td>Chinese gay dating app Blued is halting new us...</td>\n",
       "    </tr>\n",
       "    <tr>\n",
       "      <th>1</th>\n",
       "      <td>21dcangr-ctte-cGNE54S5ME3jpgjpg</td>\n",
       "      <td>December 28, 2018</td>\n",
       "      <td>DOWN TOWN</td>\n",
       "      <td>Today's Paper,FEATURES,DOWN TOWN</td>\n",
       "      <td>NaN</td>\n",
       "      <td>Students stage a dance based on the theme of HIV.</td>\n",
       "    </tr>\n",
       "    <tr>\n",
       "      <th>2</th>\n",
       "      <td>A year that saw Tamil Nadu's health sector sta...</td>\n",
       "      <td>December 30, 2018</td>\n",
       "      <td>Tamil Nadu</td>\n",
       "      <td>News,States,Tamil Nadu</td>\n",
       "      <td>Serena Josephine M</td>\n",
       "      <td>The year was one of ups and downs for the heal...</td>\n",
       "    </tr>\n",
       "    <tr>\n",
       "      <th>3</th>\n",
       "      <td>‘Many combination drugs not approved by regula...</td>\n",
       "      <td>December 11, 2018</td>\n",
       "      <td>NATIONAL</td>\n",
       "      <td>Today's Paper,NATIONAL</td>\n",
       "      <td>Afshan Yasmeen</td>\n",
       "      <td>Of the 110 anti-TB (tuberculosis) Fixed Dose C...</td>\n",
       "    </tr>\n",
       "    <tr>\n",
       "      <th>4</th>\n",
       "      <td>HIV reality check</td>\n",
       "      <td>December 31, 2018</td>\n",
       "      <td>OPINION</td>\n",
       "      <td>Today's Paper,OPINION</td>\n",
       "      <td>NaN</td>\n",
       "      <td>A 23-year-old pregnant woman in Tamil Nadu tes...</td>\n",
       "    </tr>\n",
       "    <tr>\n",
       "      <th>5</th>\n",
       "      <td>Madurai Today</td>\n",
       "      <td>January 05, 2019</td>\n",
       "      <td>TAMIL NADU</td>\n",
       "      <td>Today's Paper,NATIONAL,TAMIL NADU</td>\n",
       "      <td>NaN</td>\n",
       "      <td>RELIGION\\n\\nSelva Vinayagar Temple: Discourse ...</td>\n",
       "    </tr>\n",
       "    <tr>\n",
       "      <th>6</th>\n",
       "      <td>Letters to the Editor - January 1, 2019</td>\n",
       "      <td>January 01, 2019</td>\n",
       "      <td>Letters</td>\n",
       "      <td>Opinion,Letters</td>\n",
       "      <td>NaN</td>\n",
       "      <td>Modern icons\\n\\nEquating our icons with the na...</td>\n",
       "    </tr>\n",
       "    <tr>\n",
       "      <th>7</th>\n",
       "      <td>A long, tiring journey no longer</td>\n",
       "      <td>December 16, 2018</td>\n",
       "      <td>KERALA</td>\n",
       "      <td>Today's Paper,NATIONAL,KERALA</td>\n",
       "      <td>RADHAKRISHNAN KUTTOOR</td>\n",
       "      <td>Every week, he would board a train for Chennai...</td>\n",
       "    </tr>\n",
       "    <tr>\n",
       "      <th>8</th>\n",
       "      <td>‘Lacunae in blood collection will be fixed’</td>\n",
       "      <td>December 28, 2018</td>\n",
       "      <td>TAMIL NADU</td>\n",
       "      <td>Today's Paper,NATIONAL,TAMIL NADU</td>\n",
       "      <td>NaN</td>\n",
       "      <td>Highlighting that a detailed investigation int...</td>\n",
       "    </tr>\n",
       "    <tr>\n",
       "      <th>9</th>\n",
       "      <td>Sandesha awards for Prasanna, Rohini</td>\n",
       "      <td>December 05, 2018</td>\n",
       "      <td>KARNATAKA</td>\n",
       "      <td>Today's Paper,NATIONAL,KARNATAKA</td>\n",
       "      <td>NaN</td>\n",
       "      <td>Theatre personality and activist Prasanna, wri...</td>\n",
       "    </tr>\n",
       "  </tbody>\n",
       "</table>\n",
       "</div>"
      ],
      "text/plain": [
       "                                                name               date  \\\n",
       "0     Juvenile users of Chinese gay app contract HIV   January 06, 2019   \n",
       "1                    21dcangr-ctte-cGNE54S5ME3jpgjpg  December 28, 2018   \n",
       "2  A year that saw Tamil Nadu's health sector sta...  December 30, 2018   \n",
       "3  ‘Many combination drugs not approved by regula...  December 11, 2018   \n",
       "4                                  HIV reality check  December 31, 2018   \n",
       "5                                      Madurai Today   January 05, 2019   \n",
       "6            Letters to the Editor - January 1, 2019   January 01, 2019   \n",
       "7                   A long, tiring journey no longer  December 16, 2018   \n",
       "8        ‘Lacunae in blood collection will be fixed’  December 28, 2018   \n",
       "9               Sandesha awards for Prasanna, Rohini  December 05, 2018   \n",
       "\n",
       "     location                           category                 author  \\\n",
       "0      Health                    Sci-Tech,Health                    NaN   \n",
       "1   DOWN TOWN   Today's Paper,FEATURES,DOWN TOWN                    NaN   \n",
       "2  Tamil Nadu             News,States,Tamil Nadu     Serena Josephine M   \n",
       "3    NATIONAL             Today's Paper,NATIONAL         Afshan Yasmeen   \n",
       "4     OPINION              Today's Paper,OPINION                    NaN   \n",
       "5  TAMIL NADU  Today's Paper,NATIONAL,TAMIL NADU                    NaN   \n",
       "6     Letters                    Opinion,Letters                    NaN   \n",
       "7      KERALA      Today's Paper,NATIONAL,KERALA  RADHAKRISHNAN KUTTOOR   \n",
       "8  TAMIL NADU  Today's Paper,NATIONAL,TAMIL NADU                    NaN   \n",
       "9   KARNATAKA   Today's Paper,NATIONAL,KARNATAKA                    NaN   \n",
       "\n",
       "                                                body  \n",
       "0  Chinese gay dating app Blued is halting new us...  \n",
       "1  Students stage a dance based on the theme of HIV.  \n",
       "2  The year was one of ups and downs for the heal...  \n",
       "3  Of the 110 anti-TB (tuberculosis) Fixed Dose C...  \n",
       "4  A 23-year-old pregnant woman in Tamil Nadu tes...  \n",
       "5  RELIGION\\n\\nSelva Vinayagar Temple: Discourse ...  \n",
       "6  Modern icons\\n\\nEquating our icons with the na...  \n",
       "7  Every week, he would board a train for Chennai...  \n",
       "8  Highlighting that a detailed investigation int...  \n",
       "9  Theatre personality and activist Prasanna, wri...  "
      ]
     },
     "execution_count": 2,
     "metadata": {},
     "output_type": "execute_result"
    }
   ],
   "source": [
    "df = pd.read_csv('../CSVs/hindu_articles.csv')\n",
    "df.head(10)"
   ]
  },
  {
   "cell_type": "code",
   "execution_count": 3,
   "metadata": {},
   "outputs": [
    {
     "data": {
      "text/plain": [
       "Counter({'January': 1579,\n",
       "         'December': 3361,\n",
       "         'November': 2020,\n",
       "         'October': 1504,\n",
       "         'August': 1617,\n",
       "         'July': 1823,\n",
       "         'June': 1538,\n",
       "         'May': 1496,\n",
       "         'April': 1361,\n",
       "         'September': 1663,\n",
       "         'March': 1939,\n",
       "         'February': 1574,\n",
       "         '': 1})"
      ]
     },
     "execution_count": 3,
     "metadata": {},
     "output_type": "execute_result"
    }
   ],
   "source": [
    "from datetime import datetime, timedelta\n",
    "from collections import Counter\n",
    "years = [x[-4:] for x in df['date']]\n",
    "day = [x[-8:-6] for x in df['date']]\n",
    "month = [x[:-9] for x in df['date']]\n",
    "years = pd.Series(years)\n",
    "month = pd.Series(month)\n",
    "day = pd.Series(day)\n",
    "count = Counter(month)\n",
    "count"
   ]
  },
  {
   "cell_type": "code",
   "execution_count": 4,
   "metadata": {},
   "outputs": [],
   "source": [
    "keys = list(count.keys())[:-1]\n",
    "values = list(count.values())[:-1]\n",
    "final = pd.DataFrame(keys, columns=['month'])\n",
    "months_sorted = sorted(keys, key=lambda day: datetime.strptime(day, \"%B\"))\n",
    "months_sorted = pd.DataFrame(months_sorted, columns=['month'])\n",
    "final['articles'] = values\n",
    "final = months_sorted.set_index('month').join(final.set_index('month'))"
   ]
  },
  {
   "cell_type": "code",
   "execution_count": 5,
   "metadata": {},
   "outputs": [
    {
     "data": {
      "text/plain": [
       "[<matplotlib.lines.Line2D at 0x7f58fc325cf8>]"
      ]
     },
     "execution_count": 5,
     "metadata": {},
     "output_type": "execute_result"
    },
    {
     "data": {
      "image/png": "[encoded data removed]",
      "text/plain": [
       "<Figure size 432x288 with 1 Axes>"
      ]
     },
     "metadata": {
      "needs_background": "light"
     },
     "output_type": "display_data"
    }
   ],
   "source": [
    "fig = plt.figure()\n",
    "ax1 = plt.subplot()\n",
    "for tick in ax1.get_xticklabels():\n",
    "    tick.set_rotation(45)\n",
    "plt.xlabel('Month')\n",
    "plt.ylabel('Number of Articles')\n",
    "ax1.plot(final)"
   ]
  },
  {
   "cell_type": "code",
   "execution_count": null,
   "metadata": {},
   "outputs": [],
   "source": []
  }
 ],
 "metadata": {
  "kernelspec": {
   "display_name": "Python 3",
   "language": "python",
   "name": "python3"
  },
  "language_info": {
   "codemirror_mode": {
    "name": "ipython",
    "version": 3
   },
   "file_extension": ".py",
   "mimetype": "text/x-python",
   "name": "python",
   "nbconvert_exporter": "python",
   "pygments_lexer": "ipython3",
   "version": "3.6.8"
  }
 },
 "nbformat": 4,
 "nbformat_minor": 2
}
