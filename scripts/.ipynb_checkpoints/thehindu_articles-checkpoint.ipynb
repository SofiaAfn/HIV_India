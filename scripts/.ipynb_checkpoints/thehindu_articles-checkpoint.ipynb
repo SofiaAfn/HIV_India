{
 "cells": [
  {
   "cell_type": "code",
   "execution_count": 1,
   "metadata": {},
   "outputs": [],
   "source": [
    "import pandas as pd"
   ]
  },
  {
   "cell_type": "code",
   "execution_count": 2,
   "metadata": {},
   "outputs": [
    {
     "data": {
      "text/html": [
       "<div>\n",
       "<style scoped>\n",
       "    .dataframe tbody tr th:only-of-type {\n",
       "        vertical-align: middle;\n",
       "    }\n",
       "\n",
       "    .dataframe tbody tr th {\n",
       "        vertical-align: top;\n",
       "    }\n",
       "\n",
       "    .dataframe thead th {\n",
       "        text-align: right;\n",
       "    }\n",
       "</style>\n",
       "<table border=\"1\" class=\"dataframe\">\n",
       "  <thead>\n",
       "    <tr style=\"text-align: right;\">\n",
       "      <th></th>\n",
       "      <th>name</th>\n",
       "      <th>date</th>\n",
       "      <th>location</th>\n",
       "      <th>category</th>\n",
       "      <th>author</th>\n",
       "      <th>body</th>\n",
       "    </tr>\n",
       "  </thead>\n",
       "  <tbody>\n",
       "    <tr>\n",
       "      <th>0</th>\n",
       "      <td>Juvenile users of Chinese gay app contract HIV</td>\n",
       "      <td>January 06, 2019</td>\n",
       "      <td>Health</td>\n",
       "      <td>Sci-Tech,Health</td>\n",
       "      <td>NaN</td>\n",
       "      <td>Chinese gay dating app Blued is halting new us...</td>\n",
       "    </tr>\n",
       "    <tr>\n",
       "      <th>1</th>\n",
       "      <td>21dcangr-ctte-cGNE54S5ME3jpgjpg</td>\n",
       "      <td>December 28, 2018</td>\n",
       "      <td>DOWN TOWN</td>\n",
       "      <td>Today's Paper,FEATURES,DOWN TOWN</td>\n",
       "      <td>NaN</td>\n",
       "      <td>Students stage a dance based on the theme of HIV.</td>\n",
       "    </tr>\n",
       "    <tr>\n",
       "      <th>2</th>\n",
       "      <td>A year that saw Tamil Nadu's health sector sta...</td>\n",
       "      <td>December 30, 2018</td>\n",
       "      <td>Tamil Nadu</td>\n",
       "      <td>News,States,Tamil Nadu</td>\n",
       "      <td>Serena Josephine M</td>\n",
       "      <td>The year was one of ups and downs for the heal...</td>\n",
       "    </tr>\n",
       "    <tr>\n",
       "      <th>3</th>\n",
       "      <td>‘Many combination drugs not approved by regula...</td>\n",
       "      <td>December 11, 2018</td>\n",
       "      <td>NATIONAL</td>\n",
       "      <td>Today's Paper,NATIONAL</td>\n",
       "      <td>Afshan Yasmeen</td>\n",
       "      <td>Of the 110 anti-TB (tuberculosis) Fixed Dose C...</td>\n",
       "    </tr>\n",
       "    <tr>\n",
       "      <th>4</th>\n",
       "      <td>HIV reality check</td>\n",
       "      <td>December 31, 2018</td>\n",
       "      <td>OPINION</td>\n",
       "      <td>Today's Paper,OPINION</td>\n",
       "      <td>NaN</td>\n",
       "      <td>A 23-year-old pregnant woman in Tamil Nadu tes...</td>\n",
       "    </tr>\n",
       "  </tbody>\n",
       "</table>\n",
       "</div>"
      ],
      "text/plain": [
       "                                                name               date  \\\n",
       "0     Juvenile users of Chinese gay app contract HIV   January 06, 2019   \n",
       "1                    21dcangr-ctte-cGNE54S5ME3jpgjpg  December 28, 2018   \n",
       "2  A year that saw Tamil Nadu's health sector sta...  December 30, 2018   \n",
       "3  ‘Many combination drugs not approved by regula...  December 11, 2018   \n",
       "4                                  HIV reality check  December 31, 2018   \n",
       "\n",
       "     location                          category              author  \\\n",
       "0      Health                   Sci-Tech,Health                 NaN   \n",
       "1   DOWN TOWN  Today's Paper,FEATURES,DOWN TOWN                 NaN   \n",
       "2  Tamil Nadu            News,States,Tamil Nadu  Serena Josephine M   \n",
       "3    NATIONAL            Today's Paper,NATIONAL      Afshan Yasmeen   \n",
       "4     OPINION             Today's Paper,OPINION                 NaN   \n",
       "\n",
       "                                                body  \n",
       "0  Chinese gay dating app Blued is halting new us...  \n",
       "1  Students stage a dance based on the theme of HIV.  \n",
       "2  The year was one of ups and downs for the heal...  \n",
       "3  Of the 110 anti-TB (tuberculosis) Fixed Dose C...  \n",
       "4  A 23-year-old pregnant woman in Tamil Nadu tes...  "
      ]
     },
     "execution_count": 2,
     "metadata": {},
     "output_type": "execute_result"
    }
   ],
   "source": [
    "df = pd.read_csv('/home/rushmash/Desktop/HIV/CSVs/hindu_articles.csv')\n",
    "df.head(5)"
   ]
  },
  {
   "cell_type": "code",
   "execution_count": 9,
   "metadata": {},
   "outputs": [
    {
     "data": {
      "text/plain": [
       "Index(['name', 'date', 'location', 'category', 'author', 'body'], dtype='object')"
      ]
     },
     "execution_count": 9,
     "metadata": {},
     "output_type": "execute_result"
    }
   ],
   "source": [
    "df.columns"
   ]
  },
  {
   "cell_type": "code",
   "execution_count": 10,
   "metadata": {},
   "outputs": [
    {
     "data": {
      "text/plain": [
       "pandas.core.indexes.base.Index"
      ]
     },
     "execution_count": 10,
     "metadata": {},
     "output_type": "execute_result"
    }
   ],
   "source": [
    "type(df.columns)"
   ]
  },
  {
   "cell_type": "code",
   "execution_count": 14,
   "metadata": {},
   "outputs": [
    {
     "data": {
      "text/html": [
       "<div>\n",
       "<style scoped>\n",
       "    .dataframe tbody tr th:only-of-type {\n",
       "        vertical-align: middle;\n",
       "    }\n",
       "\n",
       "    .dataframe tbody tr th {\n",
       "        vertical-align: top;\n",
       "    }\n",
       "\n",
       "    .dataframe thead th {\n",
       "        text-align: right;\n",
       "    }\n",
       "</style>\n",
       "<table border=\"1\" class=\"dataframe\">\n",
       "  <thead>\n",
       "    <tr style=\"text-align: right;\">\n",
       "      <th></th>\n",
       "      <th>name</th>\n",
       "      <th>date</th>\n",
       "      <th>location</th>\n",
       "      <th>category</th>\n",
       "      <th>author</th>\n",
       "      <th>body</th>\n",
       "    </tr>\n",
       "  </thead>\n",
       "  <tbody>\n",
       "    <tr>\n",
       "      <th>0</th>\n",
       "      <td>juvenile users of chinese gay app contract hiv</td>\n",
       "      <td>january 06, 2019</td>\n",
       "      <td>health</td>\n",
       "      <td>sci-tech,health</td>\n",
       "      <td>NaN</td>\n",
       "      <td>chinese gay dating app blued is halting new us...</td>\n",
       "    </tr>\n",
       "    <tr>\n",
       "      <th>1</th>\n",
       "      <td>21dcangr-ctte-cgne54s5me3jpgjpg</td>\n",
       "      <td>december 28, 2018</td>\n",
       "      <td>down town</td>\n",
       "      <td>today's paper,features,down town</td>\n",
       "      <td>NaN</td>\n",
       "      <td>students stage a dance based on the theme of hiv.</td>\n",
       "    </tr>\n",
       "    <tr>\n",
       "      <th>2</th>\n",
       "      <td>a year that saw tamil nadu's health sector sta...</td>\n",
       "      <td>december 30, 2018</td>\n",
       "      <td>tamil nadu</td>\n",
       "      <td>news,states,tamil nadu</td>\n",
       "      <td>serena josephine m</td>\n",
       "      <td>the year was one of ups and downs for the heal...</td>\n",
       "    </tr>\n",
       "    <tr>\n",
       "      <th>3</th>\n",
       "      <td>‘many combination drugs not approved by regula...</td>\n",
       "      <td>december 11, 2018</td>\n",
       "      <td>national</td>\n",
       "      <td>today's paper,national</td>\n",
       "      <td>afshan yasmeen</td>\n",
       "      <td>of the 110 anti-tb (tuberculosis) fixed dose c...</td>\n",
       "    </tr>\n",
       "    <tr>\n",
       "      <th>4</th>\n",
       "      <td>hiv reality check</td>\n",
       "      <td>december 31, 2018</td>\n",
       "      <td>opinion</td>\n",
       "      <td>today's paper,opinion</td>\n",
       "      <td>NaN</td>\n",
       "      <td>a 23-year-old pregnant woman in tamil nadu tes...</td>\n",
       "    </tr>\n",
       "  </tbody>\n",
       "</table>\n",
       "</div>"
      ],
      "text/plain": [
       "                                                name               date  \\\n",
       "0     juvenile users of chinese gay app contract hiv   january 06, 2019   \n",
       "1                    21dcangr-ctte-cgne54s5me3jpgjpg  december 28, 2018   \n",
       "2  a year that saw tamil nadu's health sector sta...  december 30, 2018   \n",
       "3  ‘many combination drugs not approved by regula...  december 11, 2018   \n",
       "4                                  hiv reality check  december 31, 2018   \n",
       "\n",
       "     location                          category              author  \\\n",
       "0      health                   sci-tech,health                 NaN   \n",
       "1   down town  today's paper,features,down town                 NaN   \n",
       "2  tamil nadu            news,states,tamil nadu  serena josephine m   \n",
       "3    national            today's paper,national      afshan yasmeen   \n",
       "4     opinion             today's paper,opinion                 NaN   \n",
       "\n",
       "                                                body  \n",
       "0  chinese gay dating app blued is halting new us...  \n",
       "1  students stage a dance based on the theme of hiv.  \n",
       "2  the year was one of ups and downs for the heal...  \n",
       "3  of the 110 anti-tb (tuberculosis) fixed dose c...  \n",
       "4  a 23-year-old pregnant woman in tamil nadu tes...  "
      ]
     },
     "execution_count": 14,
     "metadata": {},
     "output_type": "execute_result"
    }
   ],
   "source": [
    "df2 = pd.DataFrame()\n",
    "for field in list(df.columns):\n",
    "    df2[field] = df[field].str.lower()\n",
    "df2.head()"
   ]
  },
  {
   "cell_type": "code",
   "execution_count": null,
   "metadata": {},
   "outputs": [],
   "source": []
  }
 ],
 "metadata": {
  "kernelspec": {
   "display_name": "Python 3",
   "language": "python",
   "name": "python3"
  },
  "language_info": {
   "codemirror_mode": {
    "name": "ipython",
    "version": 3
   },
   "file_extension": ".py",
   "mimetype": "text/x-python",
   "name": "python",
   "nbconvert_exporter": "python",
   "pygments_lexer": "ipython3",
   "version": "3.6.8"
  }
 },
 "nbformat": 4,
 "nbformat_minor": 2
}
